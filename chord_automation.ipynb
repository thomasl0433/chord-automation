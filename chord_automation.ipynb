{
  "nbformat": 4,
  "nbformat_minor": 0,
  "metadata": {
    "colab": {
      "provenance": [],
      "authorship_tag": "ABX9TyNagycrU+p8UXOJVKmIY3yD",
      "include_colab_link": true
    },
    "kernelspec": {
      "name": "python3",
      "display_name": "Python 3"
    },
    "language_info": {
      "name": "python"
    }
  },
  "cells": [
    {
      "cell_type": "markdown",
      "metadata": {
        "id": "view-in-github",
        "colab_type": "text"
      },
      "source": [
        "<a href=\"https://colab.research.google.com/github/thomasl0433/chord-automation/blob/main/chord_automation.ipynb\" target=\"_parent\"><img src=\"https://colab.research.google.com/assets/colab-badge.svg\" alt=\"Open In Colab\"/></a>"
      ]
    },
    {
      "cell_type": "code",
      "execution_count": null,
      "metadata": {
        "colab": {
          "base_uri": "https://localhost:8080/"
        },
        "id": "DShkza7VAO_u",
        "outputId": "5e0dd437-1236-4a81-9c0c-4a23318517e6"
      },
      "outputs": [
        {
          "output_type": "stream",
          "name": "stdout",
          "text": [
            "Requirement already satisfied: autochord in /usr/local/lib/python3.10/dist-packages (0.1.4)\n",
            "Requirement already satisfied: gdown>=3.11 in /usr/local/lib/python3.10/dist-packages (from autochord) (4.6.6)\n",
            "Requirement already satisfied: numpy>=1.19 in /usr/local/lib/python3.10/dist-packages (from autochord) (1.23.5)\n",
            "Requirement already satisfied: scipy>=1.4 in /usr/local/lib/python3.10/dist-packages (from autochord) (1.11.3)\n",
            "Requirement already satisfied: librosa>=0.8 in /usr/local/lib/python3.10/dist-packages (from autochord) (0.10.1)\n",
            "Requirement already satisfied: vamp in /usr/local/lib/python3.10/dist-packages (from autochord) (1.1.0)\n",
            "Requirement already satisfied: lazycats in /usr/local/lib/python3.10/dist-packages (from autochord) (0.1.0)\n",
            "Requirement already satisfied: tensorflow>=2.6 in /usr/local/lib/python3.10/dist-packages (from autochord) (2.14.0)\n",
            "Requirement already satisfied: filelock in /usr/local/lib/python3.10/dist-packages (from gdown>=3.11->autochord) (3.13.1)\n",
            "Requirement already satisfied: requests[socks] in /usr/local/lib/python3.10/dist-packages (from gdown>=3.11->autochord) (2.31.0)\n",
            "Requirement already satisfied: six in /usr/local/lib/python3.10/dist-packages (from gdown>=3.11->autochord) (1.16.0)\n",
            "Requirement already satisfied: tqdm in /usr/local/lib/python3.10/dist-packages (from gdown>=3.11->autochord) (4.66.1)\n",
            "Requirement already satisfied: beautifulsoup4 in /usr/local/lib/python3.10/dist-packages (from gdown>=3.11->autochord) (4.11.2)\n",
            "Requirement already satisfied: audioread>=2.1.9 in /usr/local/lib/python3.10/dist-packages (from librosa>=0.8->autochord) (3.0.1)\n",
            "Requirement already satisfied: scikit-learn>=0.20.0 in /usr/local/lib/python3.10/dist-packages (from librosa>=0.8->autochord) (1.2.2)\n",
            "Requirement already satisfied: joblib>=0.14 in /usr/local/lib/python3.10/dist-packages (from librosa>=0.8->autochord) (1.3.2)\n",
            "Requirement already satisfied: decorator>=4.3.0 in /usr/local/lib/python3.10/dist-packages (from librosa>=0.8->autochord) (4.4.2)\n",
            "Requirement already satisfied: numba>=0.51.0 in /usr/local/lib/python3.10/dist-packages (from librosa>=0.8->autochord) (0.58.1)\n",
            "Requirement already satisfied: soundfile>=0.12.1 in /usr/local/lib/python3.10/dist-packages (from librosa>=0.8->autochord) (0.12.1)\n",
            "Requirement already satisfied: pooch>=1.0 in /usr/local/lib/python3.10/dist-packages (from librosa>=0.8->autochord) (1.8.0)\n",
            "Requirement already satisfied: soxr>=0.3.2 in /usr/local/lib/python3.10/dist-packages (from librosa>=0.8->autochord) (0.3.7)\n",
            "Requirement already satisfied: typing-extensions>=4.1.1 in /usr/local/lib/python3.10/dist-packages (from librosa>=0.8->autochord) (4.5.0)\n",
            "Requirement already satisfied: lazy-loader>=0.1 in /usr/local/lib/python3.10/dist-packages (from librosa>=0.8->autochord) (0.3)\n",
            "Requirement already satisfied: msgpack>=1.0 in /usr/local/lib/python3.10/dist-packages (from librosa>=0.8->autochord) (1.0.7)\n",
            "Requirement already satisfied: absl-py>=1.0.0 in /usr/local/lib/python3.10/dist-packages (from tensorflow>=2.6->autochord) (1.4.0)\n",
            "Requirement already satisfied: astunparse>=1.6.0 in /usr/local/lib/python3.10/dist-packages (from tensorflow>=2.6->autochord) (1.6.3)\n",
            "Requirement already satisfied: flatbuffers>=23.5.26 in /usr/local/lib/python3.10/dist-packages (from tensorflow>=2.6->autochord) (23.5.26)\n",
            "Requirement already satisfied: gast!=0.5.0,!=0.5.1,!=0.5.2,>=0.2.1 in /usr/local/lib/python3.10/dist-packages (from tensorflow>=2.6->autochord) (0.5.4)\n",
            "Requirement already satisfied: google-pasta>=0.1.1 in /usr/local/lib/python3.10/dist-packages (from tensorflow>=2.6->autochord) (0.2.0)\n",
            "Requirement already satisfied: h5py>=2.9.0 in /usr/local/lib/python3.10/dist-packages (from tensorflow>=2.6->autochord) (3.9.0)\n",
            "Requirement already satisfied: libclang>=13.0.0 in /usr/local/lib/python3.10/dist-packages (from tensorflow>=2.6->autochord) (16.0.6)\n",
            "Requirement already satisfied: ml-dtypes==0.2.0 in /usr/local/lib/python3.10/dist-packages (from tensorflow>=2.6->autochord) (0.2.0)\n",
            "Requirement already satisfied: opt-einsum>=2.3.2 in /usr/local/lib/python3.10/dist-packages (from tensorflow>=2.6->autochord) (3.3.0)\n",
            "Requirement already satisfied: packaging in /usr/local/lib/python3.10/dist-packages (from tensorflow>=2.6->autochord) (23.2)\n",
            "Requirement already satisfied: protobuf!=4.21.0,!=4.21.1,!=4.21.2,!=4.21.3,!=4.21.4,!=4.21.5,<5.0.0dev,>=3.20.3 in /usr/local/lib/python3.10/dist-packages (from tensorflow>=2.6->autochord) (3.20.3)\n",
            "Requirement already satisfied: setuptools in /usr/local/lib/python3.10/dist-packages (from tensorflow>=2.6->autochord) (67.7.2)\n",
            "Requirement already satisfied: termcolor>=1.1.0 in /usr/local/lib/python3.10/dist-packages (from tensorflow>=2.6->autochord) (2.3.0)\n",
            "Requirement already satisfied: wrapt<1.15,>=1.11.0 in /usr/local/lib/python3.10/dist-packages (from tensorflow>=2.6->autochord) (1.14.1)\n",
            "Requirement already satisfied: tensorflow-io-gcs-filesystem>=0.23.1 in /usr/local/lib/python3.10/dist-packages (from tensorflow>=2.6->autochord) (0.34.0)\n",
            "Requirement already satisfied: grpcio<2.0,>=1.24.3 in /usr/local/lib/python3.10/dist-packages (from tensorflow>=2.6->autochord) (1.59.2)\n",
            "Requirement already satisfied: tensorboard<2.15,>=2.14 in /usr/local/lib/python3.10/dist-packages (from tensorflow>=2.6->autochord) (2.14.1)\n",
            "Requirement already satisfied: tensorflow-estimator<2.15,>=2.14.0 in /usr/local/lib/python3.10/dist-packages (from tensorflow>=2.6->autochord) (2.14.0)\n",
            "Requirement already satisfied: keras<2.15,>=2.14.0 in /usr/local/lib/python3.10/dist-packages (from tensorflow>=2.6->autochord) (2.14.0)\n",
            "Requirement already satisfied: wheel<1.0,>=0.23.0 in /usr/local/lib/python3.10/dist-packages (from astunparse>=1.6.0->tensorflow>=2.6->autochord) (0.41.3)\n",
            "Requirement already satisfied: llvmlite<0.42,>=0.41.0dev0 in /usr/local/lib/python3.10/dist-packages (from numba>=0.51.0->librosa>=0.8->autochord) (0.41.1)\n",
            "Requirement already satisfied: platformdirs>=2.5.0 in /usr/local/lib/python3.10/dist-packages (from pooch>=1.0->librosa>=0.8->autochord) (4.0.0)\n",
            "Requirement already satisfied: threadpoolctl>=2.0.0 in /usr/local/lib/python3.10/dist-packages (from scikit-learn>=0.20.0->librosa>=0.8->autochord) (3.2.0)\n",
            "Requirement already satisfied: cffi>=1.0 in /usr/local/lib/python3.10/dist-packages (from soundfile>=0.12.1->librosa>=0.8->autochord) (1.16.0)\n",
            "Requirement already satisfied: google-auth<3,>=1.6.3 in /usr/local/lib/python3.10/dist-packages (from tensorboard<2.15,>=2.14->tensorflow>=2.6->autochord) (2.17.3)\n",
            "Requirement already satisfied: google-auth-oauthlib<1.1,>=0.5 in /usr/local/lib/python3.10/dist-packages (from tensorboard<2.15,>=2.14->tensorflow>=2.6->autochord) (1.0.0)\n",
            "Requirement already satisfied: markdown>=2.6.8 in /usr/local/lib/python3.10/dist-packages (from tensorboard<2.15,>=2.14->tensorflow>=2.6->autochord) (3.5.1)\n",
            "Requirement already satisfied: tensorboard-data-server<0.8.0,>=0.7.0 in /usr/local/lib/python3.10/dist-packages (from tensorboard<2.15,>=2.14->tensorflow>=2.6->autochord) (0.7.2)\n",
            "Requirement already satisfied: werkzeug>=1.0.1 in /usr/local/lib/python3.10/dist-packages (from tensorboard<2.15,>=2.14->tensorflow>=2.6->autochord) (3.0.1)\n",
            "Requirement already satisfied: soupsieve>1.2 in /usr/local/lib/python3.10/dist-packages (from beautifulsoup4->gdown>=3.11->autochord) (2.5)\n",
            "Requirement already satisfied: charset-normalizer<4,>=2 in /usr/local/lib/python3.10/dist-packages (from requests[socks]->gdown>=3.11->autochord) (3.3.2)\n",
            "Requirement already satisfied: idna<4,>=2.5 in /usr/local/lib/python3.10/dist-packages (from requests[socks]->gdown>=3.11->autochord) (3.4)\n",
            "Requirement already satisfied: urllib3<3,>=1.21.1 in /usr/local/lib/python3.10/dist-packages (from requests[socks]->gdown>=3.11->autochord) (2.0.7)\n",
            "Requirement already satisfied: certifi>=2017.4.17 in /usr/local/lib/python3.10/dist-packages (from requests[socks]->gdown>=3.11->autochord) (2023.7.22)\n",
            "Requirement already satisfied: PySocks!=1.5.7,>=1.5.6 in /usr/local/lib/python3.10/dist-packages (from requests[socks]->gdown>=3.11->autochord) (1.7.1)\n",
            "Requirement already satisfied: pycparser in /usr/local/lib/python3.10/dist-packages (from cffi>=1.0->soundfile>=0.12.1->librosa>=0.8->autochord) (2.21)\n",
            "Requirement already satisfied: cachetools<6.0,>=2.0.0 in /usr/local/lib/python3.10/dist-packages (from google-auth<3,>=1.6.3->tensorboard<2.15,>=2.14->tensorflow>=2.6->autochord) (5.3.2)\n",
            "Requirement already satisfied: pyasn1-modules>=0.2.1 in /usr/local/lib/python3.10/dist-packages (from google-auth<3,>=1.6.3->tensorboard<2.15,>=2.14->tensorflow>=2.6->autochord) (0.3.0)\n",
            "Requirement already satisfied: rsa<5,>=3.1.4 in /usr/local/lib/python3.10/dist-packages (from google-auth<3,>=1.6.3->tensorboard<2.15,>=2.14->tensorflow>=2.6->autochord) (4.9)\n",
            "Requirement already satisfied: requests-oauthlib>=0.7.0 in /usr/local/lib/python3.10/dist-packages (from google-auth-oauthlib<1.1,>=0.5->tensorboard<2.15,>=2.14->tensorflow>=2.6->autochord) (1.3.1)\n",
            "Requirement already satisfied: MarkupSafe>=2.1.1 in /usr/local/lib/python3.10/dist-packages (from werkzeug>=1.0.1->tensorboard<2.15,>=2.14->tensorflow>=2.6->autochord) (2.1.3)\n",
            "Requirement already satisfied: pyasn1<0.6.0,>=0.4.6 in /usr/local/lib/python3.10/dist-packages (from pyasn1-modules>=0.2.1->google-auth<3,>=1.6.3->tensorboard<2.15,>=2.14->tensorflow>=2.6->autochord) (0.5.0)\n",
            "Requirement already satisfied: oauthlib>=3.0.0 in /usr/local/lib/python3.10/dist-packages (from requests-oauthlib>=0.7.0->google-auth-oauthlib<1.1,>=0.5->tensorboard<2.15,>=2.14->tensorflow>=2.6->autochord) (3.2.2)\n",
            "Collecting supabase\n",
            "  Downloading supabase-2.1.0-py3-none-any.whl (15 kB)\n",
            "Collecting gotrue<2.0.0,>=1.3.0 (from supabase)\n",
            "  Downloading gotrue-1.3.0-py3-none-any.whl (42 kB)\n",
            "\u001b[2K     \u001b[90m━━━━━━━━━━━━━━━━━━━━━━━━━━━━━━━━━━━━━━━━\u001b[0m \u001b[32m42.3/42.3 kB\u001b[0m \u001b[31m960.0 kB/s\u001b[0m eta \u001b[36m0:00:00\u001b[0m\n",
            "\u001b[?25hCollecting httpx<0.25.0,>=0.24.0 (from supabase)\n",
            "  Downloading httpx-0.24.1-py3-none-any.whl (75 kB)\n",
            "\u001b[2K     \u001b[90m━━━━━━━━━━━━━━━━━━━━━━━━━━━━━━━━━━━━━━━━\u001b[0m \u001b[32m75.4/75.4 kB\u001b[0m \u001b[31m4.5 MB/s\u001b[0m eta \u001b[36m0:00:00\u001b[0m\n",
            "\u001b[?25hCollecting postgrest<0.14.0,>=0.10.8 (from supabase)\n",
            "  Downloading postgrest-0.13.0-py3-none-any.whl (19 kB)\n",
            "Collecting realtime<2.0.0,>=1.0.0 (from supabase)\n",
            "  Downloading realtime-1.0.0-py3-none-any.whl (8.0 kB)\n",
            "Collecting storage3<0.8.0,>=0.5.3 (from supabase)\n",
            "  Downloading storage3-0.7.0-py3-none-any.whl (15 kB)\n",
            "Collecting supafunc<0.4.0,>=0.3.1 (from supabase)\n",
            "  Downloading supafunc-0.3.1-py3-none-any.whl (6.1 kB)\n",
            "Requirement already satisfied: pydantic<3,>=1.10 in /usr/local/lib/python3.10/dist-packages (from gotrue<2.0.0,>=1.3.0->supabase) (1.10.13)\n",
            "Requirement already satisfied: certifi in /usr/local/lib/python3.10/dist-packages (from httpx<0.25.0,>=0.24.0->supabase) (2023.7.22)\n",
            "Collecting httpcore<0.18.0,>=0.15.0 (from httpx<0.25.0,>=0.24.0->supabase)\n",
            "  Downloading httpcore-0.17.3-py3-none-any.whl (74 kB)\n",
            "\u001b[2K     \u001b[90m━━━━━━━━━━━━━━━━━━━━━━━━━━━━━━━━━━━━━━━━\u001b[0m \u001b[32m74.5/74.5 kB\u001b[0m \u001b[31m10.5 MB/s\u001b[0m eta \u001b[36m0:00:00\u001b[0m\n",
            "\u001b[?25hRequirement already satisfied: idna in /usr/local/lib/python3.10/dist-packages (from httpx<0.25.0,>=0.24.0->supabase) (3.4)\n",
            "Requirement already satisfied: sniffio in /usr/local/lib/python3.10/dist-packages (from httpx<0.25.0,>=0.24.0->supabase) (1.3.0)\n",
            "Collecting deprecation<3.0.0,>=2.1.0 (from postgrest<0.14.0,>=0.10.8->supabase)\n",
            "  Downloading deprecation-2.1.0-py2.py3-none-any.whl (11 kB)\n",
            "Collecting strenum<0.5.0,>=0.4.9 (from postgrest<0.14.0,>=0.10.8->supabase)\n",
            "  Downloading StrEnum-0.4.15-py3-none-any.whl (8.9 kB)\n",
            "Requirement already satisfied: python-dateutil<3.0.0,>=2.8.1 in /usr/local/lib/python3.10/dist-packages (from realtime<2.0.0,>=1.0.0->supabase) (2.8.2)\n",
            "Requirement already satisfied: typing-extensions<5.0.0,>=4.2.0 in /usr/local/lib/python3.10/dist-packages (from realtime<2.0.0,>=1.0.0->supabase) (4.5.0)\n",
            "Collecting websockets<11.0,>=10.3 (from realtime<2.0.0,>=1.0.0->supabase)\n",
            "  Downloading websockets-10.4-cp310-cp310-manylinux_2_5_x86_64.manylinux1_x86_64.manylinux_2_17_x86_64.manylinux2014_x86_64.whl (106 kB)\n",
            "\u001b[2K     \u001b[90m━━━━━━━━━━━━━━━━━━━━━━━━━━━━━━━━━━━━━━━━\u001b[0m \u001b[32m106.8/106.8 kB\u001b[0m \u001b[31m15.2 MB/s\u001b[0m eta \u001b[36m0:00:00\u001b[0m\n",
            "\u001b[?25hRequirement already satisfied: packaging in /usr/local/lib/python3.10/dist-packages (from deprecation<3.0.0,>=2.1.0->postgrest<0.14.0,>=0.10.8->supabase) (23.2)\n",
            "Collecting h11<0.15,>=0.13 (from httpcore<0.18.0,>=0.15.0->httpx<0.25.0,>=0.24.0->supabase)\n",
            "  Downloading h11-0.14.0-py3-none-any.whl (58 kB)\n",
            "\u001b[2K     \u001b[90m━━━━━━━━━━━━━━━━━━━━━━━━━━━━━━━━━━━━━━━━\u001b[0m \u001b[32m58.3/58.3 kB\u001b[0m \u001b[31m8.0 MB/s\u001b[0m eta \u001b[36m0:00:00\u001b[0m\n",
            "\u001b[?25hRequirement already satisfied: anyio<5.0,>=3.0 in /usr/local/lib/python3.10/dist-packages (from httpcore<0.18.0,>=0.15.0->httpx<0.25.0,>=0.24.0->supabase) (3.7.1)\n",
            "Requirement already satisfied: six>=1.5 in /usr/local/lib/python3.10/dist-packages (from python-dateutil<3.0.0,>=2.8.1->realtime<2.0.0,>=1.0.0->supabase) (1.16.0)\n",
            "Requirement already satisfied: exceptiongroup in /usr/local/lib/python3.10/dist-packages (from anyio<5.0,>=3.0->httpcore<0.18.0,>=0.15.0->httpx<0.25.0,>=0.24.0->supabase) (1.1.3)\n",
            "Installing collected packages: strenum, websockets, h11, deprecation, realtime, httpcore, httpx, supafunc, storage3, postgrest, gotrue, supabase\n",
            "Successfully installed deprecation-2.1.0 gotrue-1.3.0 h11-0.14.0 httpcore-0.17.3 httpx-0.24.1 postgrest-0.13.0 realtime-1.0.0 storage3-0.7.0 strenum-0.4.15 supabase-2.1.0 supafunc-0.3.1 websockets-10.4\n"
          ]
        }
      ],
      "source": [
        "!pip install autochord\n",
        "!pip install supabase"
      ]
    },
    {
      "cell_type": "code",
      "source": [
        "import os\n",
        "from supabase import create_client, Client\n",
        "from google.colab import userdata\n",
        "\n",
        "url: str = userdata.get(\"SUPABASE_URL\")\n",
        "key: str = userdata.get(\"SUPABASE_KEY\")\n",
        "supabase: Client = create_client(url, key)"
      ],
      "metadata": {
        "id": "dUBTx3-jBHNp"
      },
      "execution_count": null,
      "outputs": []
    },
    {
      "cell_type": "markdown",
      "source": [
        "# Vision\n",
        "Have a website that allows you to search for songs by chord progressions using a chat interface\n",
        "\n",
        "# Steps\n",
        "1. Provide a list of URLs of youtube videos\n",
        "2. Download the audio for the videos using a youtube downloader library\n",
        "3. Store the audio in Supabase storage\n",
        "4. Run a function that performs analysis on each of the mp3s in storage, and then write those results to a table in Supabase"
      ],
      "metadata": {
        "id": "HUZC_7j8DVa1"
      }
    },
    {
      "cell_type": "code",
      "source": [
        "!pip install -U yt-dlp"
      ],
      "metadata": {
        "colab": {
          "base_uri": "https://localhost:8080/"
        },
        "id": "WuOMPPgaHQtp",
        "outputId": "d18f3ab0-b35c-4734-add3-345871d4866b"
      },
      "execution_count": null,
      "outputs": [
        {
          "output_type": "stream",
          "name": "stdout",
          "text": [
            "Collecting yt-dlp\n",
            "  Downloading yt_dlp-2023.11.16-py2.py3-none-any.whl (3.1 MB)\n",
            "\u001b[2K     \u001b[90m━━━━━━━━━━━━━━━━━━━━━━━━━━━━━━━━━━━━━━━━\u001b[0m \u001b[32m3.1/3.1 MB\u001b[0m \u001b[31m32.7 MB/s\u001b[0m eta \u001b[36m0:00:00\u001b[0m\n",
            "\u001b[?25hCollecting mutagen (from yt-dlp)\n",
            "  Downloading mutagen-1.47.0-py3-none-any.whl (194 kB)\n",
            "\u001b[2K     \u001b[90m━━━━━━━━━━━━━━━━━━━━━━━━━━━━━━━━━━━━━━━━\u001b[0m \u001b[32m194.4/194.4 kB\u001b[0m \u001b[31m28.2 MB/s\u001b[0m eta \u001b[36m0:00:00\u001b[0m\n",
            "\u001b[?25hCollecting pycryptodomex (from yt-dlp)\n",
            "  Downloading pycryptodomex-3.19.0-cp35-abi3-manylinux_2_17_x86_64.manylinux2014_x86_64.whl (2.1 MB)\n",
            "\u001b[2K     \u001b[90m━━━━━━━━━━━━━━━━━━━━━━━━━━━━━━━━━━━━━━━━\u001b[0m \u001b[32m2.1/2.1 MB\u001b[0m \u001b[31m78.3 MB/s\u001b[0m eta \u001b[36m0:00:00\u001b[0m\n",
            "\u001b[?25hRequirement already satisfied: websockets in /usr/local/lib/python3.10/dist-packages (from yt-dlp) (10.4)\n",
            "Requirement already satisfied: certifi in /usr/local/lib/python3.10/dist-packages (from yt-dlp) (2023.7.22)\n",
            "Requirement already satisfied: requests<3,>=2.31.0 in /usr/local/lib/python3.10/dist-packages (from yt-dlp) (2.31.0)\n",
            "Requirement already satisfied: urllib3<3,>=1.26.17 in /usr/local/lib/python3.10/dist-packages (from yt-dlp) (2.0.7)\n",
            "Collecting brotli (from yt-dlp)\n",
            "  Downloading Brotli-1.1.0-cp310-cp310-manylinux_2_5_x86_64.manylinux1_x86_64.manylinux_2_12_x86_64.manylinux2010_x86_64.whl (3.0 MB)\n",
            "\u001b[2K     \u001b[90m━━━━━━━━━━━━━━━━━━━━━━━━━━━━━━━━━━━━━━━━\u001b[0m \u001b[32m3.0/3.0 MB\u001b[0m \u001b[31m98.3 MB/s\u001b[0m eta \u001b[36m0:00:00\u001b[0m\n",
            "\u001b[?25hRequirement already satisfied: charset-normalizer<4,>=2 in /usr/local/lib/python3.10/dist-packages (from requests<3,>=2.31.0->yt-dlp) (3.3.2)\n",
            "Requirement already satisfied: idna<4,>=2.5 in /usr/local/lib/python3.10/dist-packages (from requests<3,>=2.31.0->yt-dlp) (3.4)\n",
            "Installing collected packages: brotli, pycryptodomex, mutagen, yt-dlp\n",
            "Successfully installed brotli-1.1.0 mutagen-1.47.0 pycryptodomex-3.19.0 yt-dlp-2023.11.16\n"
          ]
        }
      ]
    },
    {
      "cell_type": "code",
      "source": [
        "#!yt-dlp \"https://youtu.be/QVqS3tB8OtE?si=794_GVL5nVKRZIe9\" -x --audio-format wav\n",
        "!yt-dlp \"https://youtu.be/YtZeVx5Om4c?si=e_5P4hq01c8rHGsM\" -x --audio-format wav\n"
      ],
      "metadata": {
        "colab": {
          "base_uri": "https://localhost:8080/"
        },
        "id": "9tphxLcBHdeR",
        "outputId": "cbe329e3-5f68-4323-bffd-176c8007d963"
      },
      "execution_count": null,
      "outputs": [
        {
          "output_type": "stream",
          "name": "stdout",
          "text": [
            "[youtube] Extracting URL: https://youtu.be/YtZeVx5Om4c?si=e_5P4hq01c8rHGsM\n",
            "[youtube] YtZeVx5Om4c: Downloading webpage\n",
            "[youtube] YtZeVx5Om4c: Downloading ios player API JSON\n",
            "[youtube] YtZeVx5Om4c: Downloading android player API JSON\n",
            "[youtube] YtZeVx5Om4c: Downloading m3u8 information\n",
            "[info] YtZeVx5Om4c: Downloading 1 format(s): 251\n",
            "[download] Destination: Mary Jane's Last Dance [YtZeVx5Om4c].webm\n",
            "\u001b[K[download] 100% of    4.46MiB in \u001b[1;37m00:00:00\u001b[0m at \u001b[0;32m47.53MiB/s\u001b[0m\n",
            "[ExtractAudio] Destination: Mary Jane's Last Dance [YtZeVx5Om4c].wav\n",
            "Deleting original file Mary Jane's Last Dance [YtZeVx5Om4c].webm (pass -k to keep)\n"
          ]
        }
      ]
    },
    {
      "cell_type": "code",
      "source": [
        "import autochord\n",
        "# autochord.recognize('nonstop_drake.wav', lab_fn='chords.lab')\n",
        "mary_jane = autochord.recognize('mary_jane.wav', lab_fn='chords.lab')"
      ],
      "metadata": {
        "colab": {
          "base_uri": "https://localhost:8080/"
        },
        "id": "pz-lim-QISau",
        "outputId": "9eac324a-a60e-496e-8f61-bde923c939e4"
      },
      "execution_count": null,
      "outputs": [
        {
          "output_type": "stream",
          "name": "stdout",
          "text": [
            "1/1 [==============================] - 0s 129ms/step\n"
          ]
        }
      ]
    },
    {
      "cell_type": "code",
      "source": [
        "print('\\n'.join(map(str, mary_jane)))"
      ],
      "metadata": {
        "colab": {
          "base_uri": "https://localhost:8080/"
        },
        "id": "voJii5-ALtTe",
        "outputId": "fdfb0b47-3990-419e-ca26-548b83b049fe"
      },
      "execution_count": null,
      "outputs": [
        {
          "output_type": "stream",
          "name": "stdout",
          "text": [
            "(0.0, 0.37151927437641724, 'G:maj')\n",
            "(0.37151927437641724, 1.8575963718820863, 'A:min')\n",
            "(1.8575963718820863, 3.297233560090703, 'G:maj')\n",
            "(3.297233560090703, 4.6439909297052155, 'D:maj')\n",
            "(4.6439909297052155, 7.5232653061224495, 'A:min')\n",
            "(7.5232653061224495, 9.195102040816327, 'G:maj')\n",
            "(9.195102040816327, 10.634739229024943, 'D:maj')\n",
            "(10.634739229024943, 13.188934240362812, 'A:maj')\n",
            "(13.188934240362812, 14.675011337868481, 'G:maj')\n",
            "(14.675011337868481, 16.16108843537415, 'D:maj')\n",
            "(16.16108843537415, 16.579047619047618, 'A:maj')\n",
            "(16.579047619047618, 18.993922902494333, 'A:min')\n",
            "(18.993922902494333, 20.526439909297054, 'G:maj')\n",
            "(20.526439909297054, 21.91963718820862, 'D:maj')\n",
            "(21.91963718820862, 23.777233560090703, 'A:maj')\n",
            "(23.777233560090703, 24.938231292517006, 'A:min')\n",
            "(24.938231292517006, 26.23854875283447, 'G:maj')\n",
            "(26.23854875283447, 27.58530612244898, 'D:maj')\n",
            "(27.58530612244898, 30.418140589569163, 'A:min')\n",
            "(30.418140589569163, 31.997097505668936, 'G:maj')\n",
            "(31.997097505668936, 33.34385487528345, 'D:min')\n",
            "(33.34385487528345, 36.22312925170068, 'A:min')\n",
            "(36.22312925170068, 37.56988662131519, 'G:maj')\n",
            "(37.56988662131519, 39.10240362811791, 'D:maj')\n",
            "(39.10240362811791, 41.61015873015873, 'A:min')\n",
            "(41.61015873015873, 42.16743764172336, 'E:min')\n",
            "(42.16743764172336, 43.32843537414966, 'G:maj')\n",
            "(43.32843537414966, 44.72163265306123, 'D:maj')\n",
            "(44.72163265306123, 47.55446712018141, 'A:min')\n",
            "(47.55446712018141, 49.08698412698413, 'G:maj')\n",
            "(49.08698412698413, 50.48018140589569, 'D:maj')\n",
            "(50.48018140589569, 53.498775510204084, 'A:min')\n",
            "(53.498775510204084, 54.79909297052154, 'G:maj')\n",
            "(54.79909297052154, 56.23873015873016, 'D:maj')\n",
            "(56.23873015873016, 59.44308390022676, 'A:min')\n",
            "(59.44308390022676, 60.3718820861678, 'G:maj')\n",
            "(60.3718820861678, 61.718639455782316, 'D:maj')\n",
            "(61.718639455782316, 62.22947845804989, 'A:maj')\n",
            "(62.22947845804989, 64.7372335600907, 'A:min')\n",
            "(64.7372335600907, 66.17687074829932, 'G:maj')\n",
            "(66.17687074829932, 67.57006802721088, 'D:maj')\n",
            "(67.57006802721088, 68.9168253968254, 'A:min')\n",
            "(68.9168253968254, 74.39673469387755, 'E:min')\n",
            "(74.39673469387755, 80.48036281179138, 'A:maj')\n",
            "(80.48036281179138, 85.91383219954649, 'E:min')\n",
            "(85.91383219954649, 89.16462585034014, 'A:maj')\n",
            "(89.16462585034014, 91.5330612244898, 'G:maj')\n",
            "(91.5330612244898, 93.39065759637188, 'A:min')\n",
            "(93.39065759637188, 95.10893424036281, 'G:maj')\n",
            "(95.10893424036281, 96.17705215419501, 'D:maj')\n",
            "(96.17705215419501, 99.1956462585034, 'A:min')\n",
            "(99.1956462585034, 100.63528344671202, 'G:maj')\n",
            "(100.63528344671202, 101.98204081632653, 'D:maj')\n",
            "(101.98204081632653, 102.95727891156463, 'A:maj')\n",
            "(102.95727891156463, 104.81487528344671, 'A:min')\n",
            "(104.81487528344671, 106.30095238095238, 'G:maj')\n",
            "(106.30095238095238, 107.55482993197279, 'D:maj')\n",
            "(107.55482993197279, 110.48054421768708, 'A:min')\n",
            "(110.48054421768708, 112.15238095238095, 'G:maj')\n",
            "(112.15238095238095, 113.26693877551021, 'D:maj')\n",
            "(113.26693877551021, 116.56417233560092, 'A:min')\n",
            "(116.56417233560092, 117.63229024943311, 'G:maj')\n",
            "(117.63229024943311, 118.88616780045352, 'N')\n",
            "(118.88616780045352, 121.85832199546485, 'A:min')\n",
            "(121.85832199546485, 123.39083900226758, 'G:maj')\n",
            "(123.39083900226758, 124.83047619047619, 'D:maj')\n",
            "(124.83047619047619, 125.94503401360545, 'A:min')\n",
            "(125.94503401360545, 131.65714285714287, 'E:min')\n",
            "(131.65714285714287, 137.64789115646258, 'A:maj')\n",
            "(137.64789115646258, 143.0813605442177, 'E:min')\n",
            "(143.0813605442177, 146.19283446712018, 'A:maj')\n",
            "(146.19283446712018, 149.11854875283447, 'G:maj')\n",
            "(149.11854875283447, 150.8368253968254, 'A:min')\n",
            "(150.8368253968254, 151.9978231292517, 'G:maj')\n",
            "(151.9978231292517, 153.3445804988662, 'D:maj')\n",
            "(153.3445804988662, 156.3631746031746, 'A:min')\n",
            "(156.3631746031746, 157.75637188208617, 'G:maj')\n",
            "(157.75637188208617, 159.05668934240364, 'D:maj')\n",
            "(159.05668934240364, 162.02884353741496, 'A:min')\n",
            "(162.02884353741496, 163.56136054421768, 'G:maj')\n",
            "(163.56136054421768, 164.9081179138322, 'D:maj')\n",
            "(164.9081179138322, 167.69451247165534, 'A:min')\n",
            "(167.69451247165534, 169.13414965986394, 'G:maj')\n",
            "(169.13414965986394, 170.71310657596374, 'D:maj')\n",
            "(170.71310657596374, 172.3849433106576, 'A:maj')\n",
            "(172.3849433106576, 173.31374149659865, 'A:min')\n",
            "(173.31374149659865, 174.93913832199547, 'G:maj')\n",
            "(174.93913832199547, 176.5645351473923, 'D:maj')\n",
            "(176.5645351473923, 179.11873015873016, 'A:min')\n",
            "(179.11873015873016, 180.79056689342403, 'G:maj')\n",
            "(180.79056689342403, 182.04444444444445, 'D:maj')\n",
            "(182.04444444444445, 185.15591836734694, 'A:min')\n",
            "(185.15591836734694, 186.31691609977324, 'G:maj')\n",
            "(186.31691609977324, 187.57079365079366, 'D:min')\n",
            "(187.57079365079366, 190.21786848072563, 'A:min')\n",
            "(190.21786848072563, 191.65750566893425, 'N')\n",
            "(191.65750566893425, 193.14358276643992, 'D:maj')\n",
            "(193.14358276643992, 194.5367800453515, 'A:min')\n",
            "(194.5367800453515, 200.1560090702948, 'E:min')\n",
            "(200.1560090702948, 206.28607709750568, 'A:maj')\n",
            "(206.28607709750568, 211.67310657596371, 'E:min')\n",
            "(211.67310657596371, 214.87746031746033, 'A:maj')\n",
            "(214.87746031746033, 217.33877551020407, 'G:maj')\n",
            "(217.33877551020407, 219.19637188208617, 'A:min')\n",
            "(219.19637188208617, 220.58956916099774, 'G:maj')\n",
            "(220.58956916099774, 221.9827664399093, 'D:maj')\n",
            "(221.9827664399093, 224.76916099773243, 'A:min')\n",
            "(224.76916099773243, 226.2552380952381, 'G:maj')\n",
            "(226.2552380952381, 227.97351473922902, 'D:maj')\n",
            "(227.97351473922902, 230.66702947845806, 'A:min')\n",
            "(230.66702947845806, 231.82802721088436, 'G:maj')\n",
            "(231.82802721088436, 233.54630385487528, 'D:maj')\n",
            "(233.54630385487528, 236.6577777777778, 'A:min')\n",
            "(236.6577777777778, 237.77233560090704, 'G:maj')\n",
            "(237.77233560090704, 239.30485260770976, 'D:maj')\n",
            "(239.30485260770976, 242.04480725623583, 'A:min')\n",
            "(242.04480725623583, 243.7166439909297, 'G:maj')\n",
            "(243.7166439909297, 245.20272108843537, 'N')\n",
            "(245.20272108843537, 248.22131519274376, 'A:min')\n",
            "(248.22131519274376, 249.28943310657596, 'G:maj')\n",
            "(249.28943310657596, 250.72907029478458, 'D:maj')\n",
            "(250.72907029478458, 253.3297052154195, 'A:min')\n",
            "(253.3297052154195, 254.95510204081634, 'A:maj')\n",
            "(254.95510204081634, 256.06965986394556, 'D:maj')\n",
            "(256.06965986394556, 259.134693877551, 'A:min')\n",
            "(259.134693877551, 260.7136507936508, 'G:maj')\n",
            "(260.7136507936508, 261.54956916099775, 'D:maj')\n",
            "(261.54956916099775, 265.12544217687076, 'A:min')\n",
            "(265.12544217687076, 266.3328798185941, 'G:maj')\n",
            "(266.3328798185941, 267.49387755102043, 'D:maj')\n",
            "(267.49387755102043, 267.54031746031745, 'N')\n",
            "(267.54031746031745, 271.6734693877551, 'A:min')\n"
          ]
        }
      ]
    }
  ]
}